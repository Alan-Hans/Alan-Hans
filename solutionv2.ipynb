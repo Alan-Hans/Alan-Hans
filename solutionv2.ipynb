{
  "nbformat": 4,
  "nbformat_minor": 0,
  "metadata": {
    "colab": {
      "provenance": [],
      "authorship_tag": "ABX9TyMGY1qpl8IYPvYMd0Z+JIrg",
      "include_colab_link": true
    },
    "kernelspec": {
      "name": "python3",
      "display_name": "Python 3"
    },
    "language_info": {
      "name": "python"
    }
  },
  "cells": [
    {
      "cell_type": "markdown",
      "metadata": {
        "id": "view-in-github",
        "colab_type": "text"
      },
      "source": [
        "<a href=\"https://colab.research.google.com/github/Alan-Hans/Alan-Hans/blob/main/solutionv2.ipynb\" target=\"_parent\"><img src=\"https://colab.research.google.com/assets/colab-badge.svg\" alt=\"Open In Colab\"/></a>"
      ]
    },
    {
      "cell_type": "markdown",
      "source": [
        "This challenge requires to predict the probability of delay of flights at Santiago de Chile Airport (SCL) using a provided dataset. This work was developed by Alan Hans Bitterlich Koning, email: Alan.bitterlich.k@gmail.com. The index of this notebook is the following: \n",
        "```\n",
        "1.- Import data \n",
        "2.- EDA\n",
        "3.- Models\n",
        "4.- Results\n",
        "5.- Comments\n"
      ],
      "metadata": {
        "id": "YfjHgLyNgSb_"
      }
    },
    {
      "cell_type": "markdown",
      "source": [
        "#1.- Import data"
      ],
      "metadata": {
        "id": "nbOzO4KNh3W4"
      }
    },
    {
      "cell_type": "code",
      "source": [
        "# Importing necessary libraries\n",
        "import pandas as pd\n",
        "import numpy as np\n",
        "import matplotlib.pyplot as plt\n",
        "import seaborn as sns\n",
        "\n",
        "url = 'https://raw.githubusercontent.com/Alan-Hans/Challenge-Data-Scientist/main/dataset_SCL.csv'\n",
        "\n",
        "df = pd.read_csv(url)"
      ],
      "metadata": {
        "colab": {
          "base_uri": "https://localhost:8080/"
        },
        "id": "WZj54iCJgF3J",
        "outputId": "ffa3c357-eee8-4725-9628-42e412c72f10"
      },
      "execution_count": 1,
      "outputs": [
        {
          "output_type": "stream",
          "name": "stderr",
          "text": [
            "<ipython-input-1-b0cb3f0119c9>:9: DtypeWarning: Columns (1,6) have mixed types. Specify dtype option on import or set low_memory=False.\n",
            "  df = pd.read_csv(url)\n"
          ]
        }
      ]
    },
    {
      "cell_type": "code",
      "source": [
        "df"
      ],
      "metadata": {
        "colab": {
          "base_uri": "https://localhost:8080/",
          "height": 659
        },
        "id": "3PvBRIavyPl7",
        "outputId": "cdb6ae6a-bceb-4fd1-f385-af56b52e1656"
      },
      "execution_count": 2,
      "outputs": [
        {
          "output_type": "execute_result",
          "data": {
            "text/plain": [
              "                   Fecha-I Vlo-I Ori-I Des-I Emp-I              Fecha-O  \\\n",
              "0      2017-01-01 23:30:00   226  SCEL  KMIA   AAL  2017-01-01 23:33:00   \n",
              "1      2017-01-02 23:30:00   226  SCEL  KMIA   AAL  2017-01-02 23:39:00   \n",
              "2      2017-01-03 23:30:00   226  SCEL  KMIA   AAL  2017-01-03 23:39:00   \n",
              "3      2017-01-04 23:30:00   226  SCEL  KMIA   AAL  2017-01-04 23:33:00   \n",
              "4      2017-01-05 23:30:00   226  SCEL  KMIA   AAL  2017-01-05 23:28:00   \n",
              "...                    ...   ...   ...   ...   ...                  ...   \n",
              "68201  2017-12-22 14:55:00   400  SCEL  SPJC   JAT  2017-12-22 15:41:00   \n",
              "68202  2017-12-25 14:55:00   400  SCEL  SPJC   JAT  2017-12-25 15:11:00   \n",
              "68203  2017-12-27 14:55:00   400  SCEL  SPJC   JAT  2017-12-27 15:35:00   \n",
              "68204  2017-12-29 14:55:00   400  SCEL  SPJC   JAT  2017-12-29 15:08:00   \n",
              "68205  2017-12-31 14:55:00   400  SCEL  SPJC   JAT  2017-12-31 15:04:00   \n",
              "\n",
              "       Vlo-O Ori-O Des-O Emp-O  DIA  MES   AÑO     DIANOM TIPOVUELO  \\\n",
              "0        226  SCEL  KMIA   AAL    1    1  2017    Domingo         I   \n",
              "1        226  SCEL  KMIA   AAL    2    1  2017      Lunes         I   \n",
              "2        226  SCEL  KMIA   AAL    3    1  2017     Martes         I   \n",
              "3        226  SCEL  KMIA   AAL    4    1  2017  Miercoles         I   \n",
              "4        226  SCEL  KMIA   AAL    5    1  2017     Jueves         I   \n",
              "...      ...   ...   ...   ...  ...  ...   ...        ...       ...   \n",
              "68201  400.0  SCEL  SPJC   JAT   22   12  2017    Viernes         I   \n",
              "68202  400.0  SCEL  SPJC   JAT   25   12  2017      Lunes         I   \n",
              "68203  400.0  SCEL  SPJC   JAT   27   12  2017  Miercoles         I   \n",
              "68204  400.0  SCEL  SPJC   JAT   29   12  2017    Viernes         I   \n",
              "68205  400.0  SCEL  SPJC   JAT   31   12  2017    Domingo         I   \n",
              "\n",
              "                   OPERA  SIGLAORI SIGLADES  \n",
              "0      American Airlines  Santiago    Miami  \n",
              "1      American Airlines  Santiago    Miami  \n",
              "2      American Airlines  Santiago    Miami  \n",
              "3      American Airlines  Santiago    Miami  \n",
              "4      American Airlines  Santiago    Miami  \n",
              "...                  ...       ...      ...  \n",
              "68201       JetSmart SPA  Santiago     Lima  \n",
              "68202       JetSmart SPA  Santiago     Lima  \n",
              "68203       JetSmart SPA  Santiago     Lima  \n",
              "68204       JetSmart SPA  Santiago     Lima  \n",
              "68205       JetSmart SPA  Santiago     Lima  \n",
              "\n",
              "[68206 rows x 18 columns]"
            ],
            "text/html": [
              "\n",
              "  <div id=\"df-403b4c5f-b15c-42da-93b5-fea449674431\">\n",
              "    <div class=\"colab-df-container\">\n",
              "      <div>\n",
              "<style scoped>\n",
              "    .dataframe tbody tr th:only-of-type {\n",
              "        vertical-align: middle;\n",
              "    }\n",
              "\n",
              "    .dataframe tbody tr th {\n",
              "        vertical-align: top;\n",
              "    }\n",
              "\n",
              "    .dataframe thead th {\n",
              "        text-align: right;\n",
              "    }\n",
              "</style>\n",
              "<table border=\"1\" class=\"dataframe\">\n",
              "  <thead>\n",
              "    <tr style=\"text-align: right;\">\n",
              "      <th></th>\n",
              "      <th>Fecha-I</th>\n",
              "      <th>Vlo-I</th>\n",
              "      <th>Ori-I</th>\n",
              "      <th>Des-I</th>\n",
              "      <th>Emp-I</th>\n",
              "      <th>Fecha-O</th>\n",
              "      <th>Vlo-O</th>\n",
              "      <th>Ori-O</th>\n",
              "      <th>Des-O</th>\n",
              "      <th>Emp-O</th>\n",
              "      <th>DIA</th>\n",
              "      <th>MES</th>\n",
              "      <th>AÑO</th>\n",
              "      <th>DIANOM</th>\n",
              "      <th>TIPOVUELO</th>\n",
              "      <th>OPERA</th>\n",
              "      <th>SIGLAORI</th>\n",
              "      <th>SIGLADES</th>\n",
              "    </tr>\n",
              "  </thead>\n",
              "  <tbody>\n",
              "    <tr>\n",
              "      <th>0</th>\n",
              "      <td>2017-01-01 23:30:00</td>\n",
              "      <td>226</td>\n",
              "      <td>SCEL</td>\n",
              "      <td>KMIA</td>\n",
              "      <td>AAL</td>\n",
              "      <td>2017-01-01 23:33:00</td>\n",
              "      <td>226</td>\n",
              "      <td>SCEL</td>\n",
              "      <td>KMIA</td>\n",
              "      <td>AAL</td>\n",
              "      <td>1</td>\n",
              "      <td>1</td>\n",
              "      <td>2017</td>\n",
              "      <td>Domingo</td>\n",
              "      <td>I</td>\n",
              "      <td>American Airlines</td>\n",
              "      <td>Santiago</td>\n",
              "      <td>Miami</td>\n",
              "    </tr>\n",
              "    <tr>\n",
              "      <th>1</th>\n",
              "      <td>2017-01-02 23:30:00</td>\n",
              "      <td>226</td>\n",
              "      <td>SCEL</td>\n",
              "      <td>KMIA</td>\n",
              "      <td>AAL</td>\n",
              "      <td>2017-01-02 23:39:00</td>\n",
              "      <td>226</td>\n",
              "      <td>SCEL</td>\n",
              "      <td>KMIA</td>\n",
              "      <td>AAL</td>\n",
              "      <td>2</td>\n",
              "      <td>1</td>\n",
              "      <td>2017</td>\n",
              "      <td>Lunes</td>\n",
              "      <td>I</td>\n",
              "      <td>American Airlines</td>\n",
              "      <td>Santiago</td>\n",
              "      <td>Miami</td>\n",
              "    </tr>\n",
              "    <tr>\n",
              "      <th>2</th>\n",
              "      <td>2017-01-03 23:30:00</td>\n",
              "      <td>226</td>\n",
              "      <td>SCEL</td>\n",
              "      <td>KMIA</td>\n",
              "      <td>AAL</td>\n",
              "      <td>2017-01-03 23:39:00</td>\n",
              "      <td>226</td>\n",
              "      <td>SCEL</td>\n",
              "      <td>KMIA</td>\n",
              "      <td>AAL</td>\n",
              "      <td>3</td>\n",
              "      <td>1</td>\n",
              "      <td>2017</td>\n",
              "      <td>Martes</td>\n",
              "      <td>I</td>\n",
              "      <td>American Airlines</td>\n",
              "      <td>Santiago</td>\n",
              "      <td>Miami</td>\n",
              "    </tr>\n",
              "    <tr>\n",
              "      <th>3</th>\n",
              "      <td>2017-01-04 23:30:00</td>\n",
              "      <td>226</td>\n",
              "      <td>SCEL</td>\n",
              "      <td>KMIA</td>\n",
              "      <td>AAL</td>\n",
              "      <td>2017-01-04 23:33:00</td>\n",
              "      <td>226</td>\n",
              "      <td>SCEL</td>\n",
              "      <td>KMIA</td>\n",
              "      <td>AAL</td>\n",
              "      <td>4</td>\n",
              "      <td>1</td>\n",
              "      <td>2017</td>\n",
              "      <td>Miercoles</td>\n",
              "      <td>I</td>\n",
              "      <td>American Airlines</td>\n",
              "      <td>Santiago</td>\n",
              "      <td>Miami</td>\n",
              "    </tr>\n",
              "    <tr>\n",
              "      <th>4</th>\n",
              "      <td>2017-01-05 23:30:00</td>\n",
              "      <td>226</td>\n",
              "      <td>SCEL</td>\n",
              "      <td>KMIA</td>\n",
              "      <td>AAL</td>\n",
              "      <td>2017-01-05 23:28:00</td>\n",
              "      <td>226</td>\n",
              "      <td>SCEL</td>\n",
              "      <td>KMIA</td>\n",
              "      <td>AAL</td>\n",
              "      <td>5</td>\n",
              "      <td>1</td>\n",
              "      <td>2017</td>\n",
              "      <td>Jueves</td>\n",
              "      <td>I</td>\n",
              "      <td>American Airlines</td>\n",
              "      <td>Santiago</td>\n",
              "      <td>Miami</td>\n",
              "    </tr>\n",
              "    <tr>\n",
              "      <th>...</th>\n",
              "      <td>...</td>\n",
              "      <td>...</td>\n",
              "      <td>...</td>\n",
              "      <td>...</td>\n",
              "      <td>...</td>\n",
              "      <td>...</td>\n",
              "      <td>...</td>\n",
              "      <td>...</td>\n",
              "      <td>...</td>\n",
              "      <td>...</td>\n",
              "      <td>...</td>\n",
              "      <td>...</td>\n",
              "      <td>...</td>\n",
              "      <td>...</td>\n",
              "      <td>...</td>\n",
              "      <td>...</td>\n",
              "      <td>...</td>\n",
              "      <td>...</td>\n",
              "    </tr>\n",
              "    <tr>\n",
              "      <th>68201</th>\n",
              "      <td>2017-12-22 14:55:00</td>\n",
              "      <td>400</td>\n",
              "      <td>SCEL</td>\n",
              "      <td>SPJC</td>\n",
              "      <td>JAT</td>\n",
              "      <td>2017-12-22 15:41:00</td>\n",
              "      <td>400.0</td>\n",
              "      <td>SCEL</td>\n",
              "      <td>SPJC</td>\n",
              "      <td>JAT</td>\n",
              "      <td>22</td>\n",
              "      <td>12</td>\n",
              "      <td>2017</td>\n",
              "      <td>Viernes</td>\n",
              "      <td>I</td>\n",
              "      <td>JetSmart SPA</td>\n",
              "      <td>Santiago</td>\n",
              "      <td>Lima</td>\n",
              "    </tr>\n",
              "    <tr>\n",
              "      <th>68202</th>\n",
              "      <td>2017-12-25 14:55:00</td>\n",
              "      <td>400</td>\n",
              "      <td>SCEL</td>\n",
              "      <td>SPJC</td>\n",
              "      <td>JAT</td>\n",
              "      <td>2017-12-25 15:11:00</td>\n",
              "      <td>400.0</td>\n",
              "      <td>SCEL</td>\n",
              "      <td>SPJC</td>\n",
              "      <td>JAT</td>\n",
              "      <td>25</td>\n",
              "      <td>12</td>\n",
              "      <td>2017</td>\n",
              "      <td>Lunes</td>\n",
              "      <td>I</td>\n",
              "      <td>JetSmart SPA</td>\n",
              "      <td>Santiago</td>\n",
              "      <td>Lima</td>\n",
              "    </tr>\n",
              "    <tr>\n",
              "      <th>68203</th>\n",
              "      <td>2017-12-27 14:55:00</td>\n",
              "      <td>400</td>\n",
              "      <td>SCEL</td>\n",
              "      <td>SPJC</td>\n",
              "      <td>JAT</td>\n",
              "      <td>2017-12-27 15:35:00</td>\n",
              "      <td>400.0</td>\n",
              "      <td>SCEL</td>\n",
              "      <td>SPJC</td>\n",
              "      <td>JAT</td>\n",
              "      <td>27</td>\n",
              "      <td>12</td>\n",
              "      <td>2017</td>\n",
              "      <td>Miercoles</td>\n",
              "      <td>I</td>\n",
              "      <td>JetSmart SPA</td>\n",
              "      <td>Santiago</td>\n",
              "      <td>Lima</td>\n",
              "    </tr>\n",
              "    <tr>\n",
              "      <th>68204</th>\n",
              "      <td>2017-12-29 14:55:00</td>\n",
              "      <td>400</td>\n",
              "      <td>SCEL</td>\n",
              "      <td>SPJC</td>\n",
              "      <td>JAT</td>\n",
              "      <td>2017-12-29 15:08:00</td>\n",
              "      <td>400.0</td>\n",
              "      <td>SCEL</td>\n",
              "      <td>SPJC</td>\n",
              "      <td>JAT</td>\n",
              "      <td>29</td>\n",
              "      <td>12</td>\n",
              "      <td>2017</td>\n",
              "      <td>Viernes</td>\n",
              "      <td>I</td>\n",
              "      <td>JetSmart SPA</td>\n",
              "      <td>Santiago</td>\n",
              "      <td>Lima</td>\n",
              "    </tr>\n",
              "    <tr>\n",
              "      <th>68205</th>\n",
              "      <td>2017-12-31 14:55:00</td>\n",
              "      <td>400</td>\n",
              "      <td>SCEL</td>\n",
              "      <td>SPJC</td>\n",
              "      <td>JAT</td>\n",
              "      <td>2017-12-31 15:04:00</td>\n",
              "      <td>400.0</td>\n",
              "      <td>SCEL</td>\n",
              "      <td>SPJC</td>\n",
              "      <td>JAT</td>\n",
              "      <td>31</td>\n",
              "      <td>12</td>\n",
              "      <td>2017</td>\n",
              "      <td>Domingo</td>\n",
              "      <td>I</td>\n",
              "      <td>JetSmart SPA</td>\n",
              "      <td>Santiago</td>\n",
              "      <td>Lima</td>\n",
              "    </tr>\n",
              "  </tbody>\n",
              "</table>\n",
              "<p>68206 rows × 18 columns</p>\n",
              "</div>\n",
              "      <button class=\"colab-df-convert\" onclick=\"convertToInteractive('df-403b4c5f-b15c-42da-93b5-fea449674431')\"\n",
              "              title=\"Convert this dataframe to an interactive table.\"\n",
              "              style=\"display:none;\">\n",
              "        \n",
              "  <svg xmlns=\"http://www.w3.org/2000/svg\" height=\"24px\"viewBox=\"0 0 24 24\"\n",
              "       width=\"24px\">\n",
              "    <path d=\"M0 0h24v24H0V0z\" fill=\"none\"/>\n",
              "    <path d=\"M18.56 5.44l.94 2.06.94-2.06 2.06-.94-2.06-.94-.94-2.06-.94 2.06-2.06.94zm-11 1L8.5 8.5l.94-2.06 2.06-.94-2.06-.94L8.5 2.5l-.94 2.06-2.06.94zm10 10l.94 2.06.94-2.06 2.06-.94-2.06-.94-.94-2.06-.94 2.06-2.06.94z\"/><path d=\"M17.41 7.96l-1.37-1.37c-.4-.4-.92-.59-1.43-.59-.52 0-1.04.2-1.43.59L10.3 9.45l-7.72 7.72c-.78.78-.78 2.05 0 2.83L4 21.41c.39.39.9.59 1.41.59.51 0 1.02-.2 1.41-.59l7.78-7.78 2.81-2.81c.8-.78.8-2.07 0-2.86zM5.41 20L4 18.59l7.72-7.72 1.47 1.35L5.41 20z\"/>\n",
              "  </svg>\n",
              "      </button>\n",
              "      \n",
              "  <style>\n",
              "    .colab-df-container {\n",
              "      display:flex;\n",
              "      flex-wrap:wrap;\n",
              "      gap: 12px;\n",
              "    }\n",
              "\n",
              "    .colab-df-convert {\n",
              "      background-color: #E8F0FE;\n",
              "      border: none;\n",
              "      border-radius: 50%;\n",
              "      cursor: pointer;\n",
              "      display: none;\n",
              "      fill: #1967D2;\n",
              "      height: 32px;\n",
              "      padding: 0 0 0 0;\n",
              "      width: 32px;\n",
              "    }\n",
              "\n",
              "    .colab-df-convert:hover {\n",
              "      background-color: #E2EBFA;\n",
              "      box-shadow: 0px 1px 2px rgba(60, 64, 67, 0.3), 0px 1px 3px 1px rgba(60, 64, 67, 0.15);\n",
              "      fill: #174EA6;\n",
              "    }\n",
              "\n",
              "    [theme=dark] .colab-df-convert {\n",
              "      background-color: #3B4455;\n",
              "      fill: #D2E3FC;\n",
              "    }\n",
              "\n",
              "    [theme=dark] .colab-df-convert:hover {\n",
              "      background-color: #434B5C;\n",
              "      box-shadow: 0px 1px 3px 1px rgba(0, 0, 0, 0.15);\n",
              "      filter: drop-shadow(0px 1px 2px rgba(0, 0, 0, 0.3));\n",
              "      fill: #FFFFFF;\n",
              "    }\n",
              "  </style>\n",
              "\n",
              "      <script>\n",
              "        const buttonEl =\n",
              "          document.querySelector('#df-403b4c5f-b15c-42da-93b5-fea449674431 button.colab-df-convert');\n",
              "        buttonEl.style.display =\n",
              "          google.colab.kernel.accessAllowed ? 'block' : 'none';\n",
              "\n",
              "        async function convertToInteractive(key) {\n",
              "          const element = document.querySelector('#df-403b4c5f-b15c-42da-93b5-fea449674431');\n",
              "          const dataTable =\n",
              "            await google.colab.kernel.invokeFunction('convertToInteractive',\n",
              "                                                     [key], {});\n",
              "          if (!dataTable) return;\n",
              "\n",
              "          const docLinkHtml = 'Like what you see? Visit the ' +\n",
              "            '<a target=\"_blank\" href=https://colab.research.google.com/notebooks/data_table.ipynb>data table notebook</a>'\n",
              "            + ' to learn more about interactive tables.';\n",
              "          element.innerHTML = '';\n",
              "          dataTable['output_type'] = 'display_data';\n",
              "          await google.colab.output.renderOutput(dataTable, element);\n",
              "          const docLink = document.createElement('div');\n",
              "          docLink.innerHTML = docLinkHtml;\n",
              "          element.appendChild(docLink);\n",
              "        }\n",
              "      </script>\n",
              "    </div>\n",
              "  </div>\n",
              "  "
            ]
          },
          "metadata": {},
          "execution_count": 2
        }
      ]
    },
    {
      "cell_type": "markdown",
      "source": [
        "Description of every column\n",
        "```\n",
        "Fecha-I: Scheduled date and time of departure (local time) in format \"YYYY-MM-DD hh:mm:ss\" (year-month-day hour:minute:second).\n",
        "Vlo-I: Scheduled flight number (text)\n",
        "Ori-I: Origin city code (text)\n",
        "Des-I: destination city code. (text)\n",
        "Emp-I: Scheduled airline code (text)\n",
        "Fecha-O: Date and time of arrival (local time) in format \"YYYY-MM-DD hh:mm:ss\" (year-month-day hour:minute:second).\n",
        "Vlo-O: Flight operation number of the flight (text)\n",
        "Ori-O: Operation origin city code (text)\n",
        "Des-O: Operation destination city code (text)\n",
        "Emp-O: Airline code of the operated flight (text)\n",
        "DIA: Day of the month (numeric)\n",
        "MES: Month of the year (numeric)\n",
        "AÑO: Year (numeric)\n",
        "DIANOM: Day of the week (text)\n",
        "TIPOVUELO: Type of flight, I =International, N =National (text)\n",
        "OPERA: Operating airline company (text)\n",
        "SIGLAORI: Name city of origin (text)\n",
        "SIGLADES: Destination city name (text)'\n",
        "\n"
      ],
      "metadata": {
        "id": "GBBrqwvr5Vuf"
      }
    },
    {
      "cell_type": "markdown",
      "source": [
        "#2.- EDA"
      ],
      "metadata": {
        "id": "dDOyioTkyZEs"
      }
    },
    {
      "cell_type": "markdown",
      "source": [
        " \n",
        "#Some interesting insights from this analysis: \n",
        "\n",
        "*   It shows that the largest number of flights in this data correspond to Grupo LATAM airlines with about 58%.\n",
        "*   The Top 5 destinations are: Buenos Aires,     Antofagasta,   Lima,             \n",
        "Calama and           Puerto Montt.\n",
        "*   Most flights are made during the month of December and on Fridays.\n",
        "\n",
        "\n",
        " \n"
      ],
      "metadata": {
        "id": "Du4GcvcDDTnu"
      }
    },
    {
      "cell_type": "code",
      "source": [
        "import pandas as pd\n",
        "import seaborn as sns\n",
        "import matplotlib.pyplot as plt\n",
        "\n",
        "# Print the first few rows of the dataset to get a sense of its structure\n",
        "print(df.head())\n",
        "\n",
        "# Check the shape of the dataset\n",
        "print(df.shape)\n",
        "\n",
        "# Check for missing values\n",
        "print(df.isnull().sum())\n",
        "\n",
        "# Descriptive statistics\n",
        "print(df.describe())\n",
        "\n",
        "# List of columns\n",
        "print(df.info())"
      ],
      "metadata": {
        "colab": {
          "base_uri": "https://localhost:8080/"
        },
        "id": "UtVdCHLMzTDa",
        "outputId": "c163ca4e-58d0-4281-bf4b-032b9c5bb859"
      },
      "execution_count": 3,
      "outputs": [
        {
          "output_type": "stream",
          "name": "stdout",
          "text": [
            "               Fecha-I Vlo-I Ori-I Des-I Emp-I              Fecha-O Vlo-O  \\\n",
            "0  2017-01-01 23:30:00   226  SCEL  KMIA   AAL  2017-01-01 23:33:00   226   \n",
            "1  2017-01-02 23:30:00   226  SCEL  KMIA   AAL  2017-01-02 23:39:00   226   \n",
            "2  2017-01-03 23:30:00   226  SCEL  KMIA   AAL  2017-01-03 23:39:00   226   \n",
            "3  2017-01-04 23:30:00   226  SCEL  KMIA   AAL  2017-01-04 23:33:00   226   \n",
            "4  2017-01-05 23:30:00   226  SCEL  KMIA   AAL  2017-01-05 23:28:00   226   \n",
            "\n",
            "  Ori-O Des-O Emp-O  DIA  MES   AÑO     DIANOM TIPOVUELO              OPERA  \\\n",
            "0  SCEL  KMIA   AAL    1    1  2017    Domingo         I  American Airlines   \n",
            "1  SCEL  KMIA   AAL    2    1  2017      Lunes         I  American Airlines   \n",
            "2  SCEL  KMIA   AAL    3    1  2017     Martes         I  American Airlines   \n",
            "3  SCEL  KMIA   AAL    4    1  2017  Miercoles         I  American Airlines   \n",
            "4  SCEL  KMIA   AAL    5    1  2017     Jueves         I  American Airlines   \n",
            "\n",
            "   SIGLAORI SIGLADES  \n",
            "0  Santiago    Miami  \n",
            "1  Santiago    Miami  \n",
            "2  Santiago    Miami  \n",
            "3  Santiago    Miami  \n",
            "4  Santiago    Miami  \n",
            "(68206, 18)\n",
            "Fecha-I      0\n",
            "Vlo-I        0\n",
            "Ori-I        0\n",
            "Des-I        0\n",
            "Emp-I        0\n",
            "Fecha-O      0\n",
            "Vlo-O        1\n",
            "Ori-O        0\n",
            "Des-O        0\n",
            "Emp-O        0\n",
            "DIA          0\n",
            "MES          0\n",
            "AÑO          0\n",
            "DIANOM       0\n",
            "TIPOVUELO    0\n",
            "OPERA        0\n",
            "SIGLAORI     0\n",
            "SIGLADES     0\n",
            "dtype: int64\n",
            "                DIA           MES           AÑO\n",
            "count  68206.000000  68206.000000  68206.000000\n",
            "mean      15.714790      6.622585   2017.000029\n",
            "std        8.782886      3.523321      0.005415\n",
            "min        1.000000      1.000000   2017.000000\n",
            "25%        8.000000      3.000000   2017.000000\n",
            "50%       16.000000      7.000000   2017.000000\n",
            "75%       23.000000     10.000000   2017.000000\n",
            "max       31.000000     12.000000   2018.000000\n",
            "<class 'pandas.core.frame.DataFrame'>\n",
            "RangeIndex: 68206 entries, 0 to 68205\n",
            "Data columns (total 18 columns):\n",
            " #   Column     Non-Null Count  Dtype \n",
            "---  ------     --------------  ----- \n",
            " 0   Fecha-I    68206 non-null  object\n",
            " 1   Vlo-I      68206 non-null  object\n",
            " 2   Ori-I      68206 non-null  object\n",
            " 3   Des-I      68206 non-null  object\n",
            " 4   Emp-I      68206 non-null  object\n",
            " 5   Fecha-O    68206 non-null  object\n",
            " 6   Vlo-O      68205 non-null  object\n",
            " 7   Ori-O      68206 non-null  object\n",
            " 8   Des-O      68206 non-null  object\n",
            " 9   Emp-O      68206 non-null  object\n",
            " 10  DIA        68206 non-null  int64 \n",
            " 11  MES        68206 non-null  int64 \n",
            " 12  AÑO        68206 non-null  int64 \n",
            " 13  DIANOM     68206 non-null  object\n",
            " 14  TIPOVUELO  68206 non-null  object\n",
            " 15  OPERA      68206 non-null  object\n",
            " 16  SIGLAORI   68206 non-null  object\n",
            " 17  SIGLADES   68206 non-null  object\n",
            "dtypes: int64(3), object(15)\n",
            "memory usage: 9.4+ MB\n",
            "None\n"
          ]
        }
      ]
    },
    {
      "cell_type": "code",
      "source": [
        "## For the purpose of this analysis, null results will be filtered out, which apparently corresponds to only 1, so it will not have a great impact and drop duplicate if there are.\n",
        "df = df.dropna()\n",
        "df = df.drop_duplicates()\n",
        "df.info()"
      ],
      "metadata": {
        "colab": {
          "base_uri": "https://localhost:8080/"
        },
        "id": "9xlSBRBj1YwL",
        "outputId": "b22d8cb4-f6a2-44a9-8d2d-349ff1685248"
      },
      "execution_count": 4,
      "outputs": [
        {
          "output_type": "stream",
          "name": "stdout",
          "text": [
            "<class 'pandas.core.frame.DataFrame'>\n",
            "Int64Index: 68205 entries, 0 to 68205\n",
            "Data columns (total 18 columns):\n",
            " #   Column     Non-Null Count  Dtype \n",
            "---  ------     --------------  ----- \n",
            " 0   Fecha-I    68205 non-null  object\n",
            " 1   Vlo-I      68205 non-null  object\n",
            " 2   Ori-I      68205 non-null  object\n",
            " 3   Des-I      68205 non-null  object\n",
            " 4   Emp-I      68205 non-null  object\n",
            " 5   Fecha-O    68205 non-null  object\n",
            " 6   Vlo-O      68205 non-null  object\n",
            " 7   Ori-O      68205 non-null  object\n",
            " 8   Des-O      68205 non-null  object\n",
            " 9   Emp-O      68205 non-null  object\n",
            " 10  DIA        68205 non-null  int64 \n",
            " 11  MES        68205 non-null  int64 \n",
            " 12  AÑO        68205 non-null  int64 \n",
            " 13  DIANOM     68205 non-null  object\n",
            " 14  TIPOVUELO  68205 non-null  object\n",
            " 15  OPERA      68205 non-null  object\n",
            " 16  SIGLAORI   68205 non-null  object\n",
            " 17  SIGLADES   68205 non-null  object\n",
            "dtypes: int64(3), object(15)\n",
            "memory usage: 9.9+ MB\n"
          ]
        }
      ]
    },
    {
      "cell_type": "code",
      "source": [
        "for i in df.columns:\n",
        "    print(i)\n",
        "    print('Unique Values: '+str(len(df.groupby([i]).count())))\n",
        "    print(df[i].value_counts())"
      ],
      "metadata": {
        "colab": {
          "base_uri": "https://localhost:8080/"
        },
        "id": "01dRNfeoAsWJ",
        "outputId": "5c794249-4485-479d-c5c2-71d6c3d7991a"
      },
      "execution_count": null,
      "outputs": [
        {
          "output_type": "stream",
          "name": "stdout",
          "text": [
            "Fecha-I\n",
            "Unique Values: 53252\n",
            "2017-07-28 13:30:00    6\n",
            "2017-03-19 18:00:00    6\n",
            "2017-03-26 18:00:00    6\n",
            "2017-12-16 13:35:00    5\n",
            "2017-02-15 13:35:00    5\n",
            "                      ..\n",
            "2017-06-01 15:16:00    1\n",
            "2017-06-02 15:16:00    1\n",
            "2017-06-03 15:16:00    1\n",
            "2017-06-04 15:16:00    1\n",
            "2017-12-31 14:55:00    1\n",
            "Name: Fecha-I, Length: 53252, dtype: int64\n",
            "Vlo-I\n",
            "Unique Values: 750\n",
            "174     686\n",
            "11      645\n",
            "116     608\n",
            "150     557\n",
            "162     553\n",
            "       ... \n",
            "1158      1\n",
            "368       1\n",
            "9955      1\n",
            "9701      1\n",
            "1218      1\n",
            "Name: Vlo-I, Length: 750, dtype: int64\n",
            "Ori-I\n",
            "Unique Values: 1\n",
            "SCEL    68205\n",
            "Name: Ori-I, dtype: int64\n",
            "Des-I\n",
            "Unique Values: 64\n",
            "SCFA    5787\n",
            "SPJC    5269\n",
            "SCCF    5145\n",
            "SCTE    4357\n",
            "SCIE    3995\n",
            "        ... \n",
            "SBFI       1\n",
            "SPSO       1\n",
            "SEQU       1\n",
            "SEQM       1\n",
            "SARI       1\n",
            "Name: Des-I, Length: 64, dtype: int64\n",
            "Emp-I\n",
            "Unique Values: 30\n",
            "LAN    37611\n",
            "SKU    14298\n",
            "TAM     3049\n",
            "ARG     1949\n",
            "CMP     1850\n",
            "LAW     1573\n",
            "AVA     1152\n",
            "JAT     1095\n",
            "GLO      806\n",
            "AAL      757\n",
            "ACA      565\n",
            "IBE      362\n",
            "AFR      358\n",
            "DAL      358\n",
            "AMX      351\n",
            "UAL      335\n",
            "ONE      279\n",
            "AZA      259\n",
            "KLM      251\n",
            "LAP      216\n",
            "BAW      205\n",
            "QFU      195\n",
            "JMR      100\n",
            "LRC       92\n",
            "AUT       74\n",
            "PUE       49\n",
            "LXP        9\n",
            "LPE        4\n",
            "DSM        2\n",
            "LNE        1\n",
            "Name: Emp-I, dtype: int64\n",
            "Fecha-O\n",
            "Unique Values: 62774\n",
            "2017-05-19 07:01:00    5\n",
            "2017-11-05 14:51:00    5\n",
            "2017-10-25 07:37:00    4\n",
            "2017-03-08 13:34:00    4\n",
            "2017-09-07 20:10:00    4\n",
            "                      ..\n",
            "2017-05-04 15:48:00    1\n",
            "2017-05-05 17:02:00    1\n",
            "2017-05-07 17:03:00    1\n",
            "2017-05-08 17:06:00    1\n",
            "2017-12-31 15:04:00    1\n",
            "Name: Fecha-O, Length: 62774, dtype: int64\n",
            "Vlo-O\n",
            "Unique Values: 866\n",
            "174      649\n",
            "11       646\n",
            "116      608\n",
            "150      517\n",
            "704      514\n",
            "        ... \n",
            "356        1\n",
            "1148       1\n",
            "846A       1\n",
            "4950       1\n",
            "180.0      1\n",
            "Name: Vlo-O, Length: 866, dtype: int64\n",
            "Ori-O\n",
            "Unique Values: 1\n",
            "SCEL    68205\n",
            "Name: Ori-O, dtype: int64\n",
            "Des-O\n",
            "Unique Values: 63\n",
            "SCFA    5786\n",
            "SPJC    5269\n",
            "SCCF    5146\n",
            "SCTE    4357\n",
            "SCIE    3993\n",
            "        ... \n",
            "SEQM       2\n",
            "KIAD       1\n",
            "SPSO       1\n",
            "EGYP       1\n",
            "SLCB       1\n",
            "Name: Des-O, Length: 63, dtype: int64\n",
            "Emp-O\n",
            "Unique Values: 32\n",
            "LAN    20988\n",
            "LXP    14558\n",
            "SKU    14298\n",
            "TAM     3046\n",
            "ARG     1946\n",
            "CMP     1850\n",
            "JMR     1647\n",
            "LPE     1214\n",
            "JAT     1095\n",
            "AVA      885\n",
            "GLO      806\n",
            "AAL      757\n",
            "ACA      565\n",
            "DSM      493\n",
            "LNE      374\n",
            "IBE      362\n",
            "AFR      358\n",
            "DAL      358\n",
            "LRC      357\n",
            "AMX      351\n",
            "UAL      335\n",
            "ONE      279\n",
            "AZA      259\n",
            "KLM      251\n",
            "LAP      219\n",
            "BAW      205\n",
            "QFA      195\n",
            "AUT       77\n",
            "PUE       49\n",
            "56R       16\n",
            "48O       10\n",
            "TPU        2\n",
            "Name: Emp-O, dtype: int64\n",
            "DIA\n",
            "Unique Values: 31\n",
            "20    2290\n",
            "27    2286\n",
            "12    2284\n",
            "10    2283\n",
            "6     2275\n",
            "22    2272\n",
            "13    2272\n",
            "3     2271\n",
            "16    2268\n",
            "26    2267\n",
            "21    2267\n",
            "7     2264\n",
            "23    2260\n",
            "5     2241\n",
            "15    2239\n",
            "11    2237\n",
            "19    2237\n",
            "24    2232\n",
            "28    2232\n",
            "17    2228\n",
            "9     2227\n",
            "2     2223\n",
            "14    2221\n",
            "4     2215\n",
            "8     2213\n",
            "1     2208\n",
            "25    2179\n",
            "18    2160\n",
            "29    2044\n",
            "30    2020\n",
            "31    1290\n",
            "Name: DIA, dtype: int64\n",
            "MES\n",
            "Unique Values: 12\n",
            "12    6356\n",
            "1     6107\n",
            "11    6080\n",
            "10    6032\n",
            "7     5992\n",
            "8     5744\n",
            "9     5610\n",
            "2     5561\n",
            "3     5482\n",
            "5     5240\n",
            "4     5020\n",
            "6     4981\n",
            "Name: MES, dtype: int64\n",
            "AÑO\n",
            "Unique Values: 2\n",
            "2017    68203\n",
            "2018        2\n",
            "Name: AÑO, dtype: int64\n",
            "DIANOM\n"
          ]
        }
      ]
    },
    {
      "cell_type": "code",
      "source": [
        "# Create a new categorical column based on Column1\n",
        "df['TIPOVUELO_int'] = df['TIPOVUELO'].apply(lambda x: 1 if x == 'I' else 0)\n",
        "\n",
        "# Print the updated dataframe\n",
        "print(df.info())"
      ],
      "metadata": {
        "id": "ca6knD0dim1o"
      },
      "execution_count": null,
      "outputs": []
    },
    {
      "cell_type": "markdown",
      "source": [
        "#Creation of feature variables"
      ],
      "metadata": {
        "id": "irdDhtNasx3Q"
      }
    },
    {
      "cell_type": "code",
      "source": [
        "import pandas as pd\n",
        "\n",
        "# Assuming your date column is called \"Date-I\"\n",
        "# Create a datetime object from the \"Date-I\" column\n",
        "df['Date-I'] = pd.to_datetime(df['Fecha-I'], format=\"%Y-%m-%d %H:%M:%S\")\n",
        "\n",
        "# Define the high season periods\n",
        "high_season_periods = [\n",
        "    (pd.to_datetime('12-15-2017', format=\"%m-%d-%Y\").date(), pd.to_datetime('03-03-2018', format=\"%m-%d-%Y\").date()),\n",
        "    (pd.to_datetime('07-15-2017', format=\"%m-%d-%Y\").date(), pd.to_datetime('07-31-2017', format=\"%m-%d-%Y\").date()),\n",
        "    (pd.to_datetime('09-11-2017', format=\"%m-%d-%Y\").date(), pd.to_datetime('09-30-2017', format=\"%m-%d-%Y\").date())\n",
        "]\n",
        "\n",
        "# Define a function to check if a date is in a high season period\n",
        "def is_in_high_season(date):\n",
        "    for period in high_season_periods:\n",
        "        if period[0] <= date.date() <= period[1]:\n",
        "            return 1\n",
        "    return 0\n",
        "\n",
        "# Apply the function to create the \"high_season\" column\n",
        "df['high_season'] = df['Date-I'].apply(is_in_high_season)"
      ],
      "metadata": {
        "id": "giUpkya5k7jX"
      },
      "execution_count": null,
      "outputs": []
    },
    {
      "cell_type": "markdown",
      "source": [
        "According to general instructions, it should be considered landing and takeoff of aircraft but it is not clear according to times if it is landing or taking off, variables are reviewed and it is not possible to conclude if it is landing or taking off without an extra variable. Therefore we proceed to create the function taking into consideration that only time will be subtracted and in case the result is negative it will be consider as negative in order to enter to the predicction."
      ],
      "metadata": {
        "id": "dlL-p3NSPg3i"
      }
    },
    {
      "cell_type": "code",
      "source": [
        "import pandas as pd\n",
        "\n",
        "# Convert date columns to datetime format\n",
        "df['Date-I'] = pd.to_datetime(df['Fecha-I'])\n",
        "df['Date-O'] = pd.to_datetime(df['Fecha-O'])\n",
        "\n",
        "# Handle negative values in min_diff column\n",
        "# Calculate the time difference between two columns\n",
        "df['min_diff'] = df.apply(lambda row: (row['Date-O'] - row['Date-I']).total_seconds() / 60 if row['Date-O'] > row['Date-I'] else (row['Date-I'] - row['Date-O']).total_seconds() / -60, axis=1)\n",
        "\n",
        "\n",
        "\n",
        "\n",
        "# Add period_day column based on Date-I\n",
        "df['period_day'] = df['Date-I'].apply(lambda x: 'morning' if 5 <= x.hour < 12 else ('afternoon' if 12 <= x.hour < 19 else 'night'))\n",
        "\n",
        "# Create a function to set delay_15 column based on min_diff\n",
        "def set_delay_15(x):\n",
        "    if x > 15:\n",
        "        return 1\n",
        "    else:\n",
        "        return 0\n",
        "\n",
        "# Apply the set_delay_15 function to create delay_15 column\n",
        "df['delay_15'] = df['min_diff'].apply(set_delay_15)\n",
        "\n",
        "# Print the updated dataframe\n",
        "df"
      ],
      "metadata": {
        "id": "861ivnJPtHJp"
      },
      "execution_count": null,
      "outputs": []
    },
    {
      "cell_type": "code",
      "source": [
        "# create dictionary to map string values to integers\n",
        "mapping_dict = {\n",
        "    'Lunes': 0,\n",
        "    'Martes': 1,\n",
        "    'Miercoles': 2,\n",
        "    'Jueves': 3,\n",
        "    'Viernes': 4,\n",
        "    'Sabado': 5,\n",
        "    'Domingo': 6\n",
        "}\n",
        "\n",
        "# create new column using map method with dictionary\n",
        "df['DIANOM_int'] = df['DIANOM'].map(mapping_dict)\n",
        "\n",
        "# add 7 as a possible value (since there are 7 string values)\n",
        "df['DIANOM_int'] = df['DIANOM_int'].fillna(7).astype(int)"
      ],
      "metadata": {
        "id": "0r3MDbuuLpjD"
      },
      "execution_count": null,
      "outputs": []
    },
    {
      "cell_type": "code",
      "source": [
        "# create dictionary to map string values to integers\n",
        "mapping_dict = {\n",
        "    'morning': 0,\n",
        "    'afternoon': 1,\n",
        "    'night': 2,\n",
        "}\n",
        "\n",
        "# create new column using map method with dictionary\n",
        "df['period_day_int'] = df['period_day'].map(mapping_dict)\n",
        "\n",
        "# add 7 as a possible value (since there are 7 string values)\n",
        "df['period_day_int'] = df['period_day_int'].fillna(7).astype(int)"
      ],
      "metadata": {
        "id": "JVKL3ZrLM3O1"
      },
      "execution_count": null,
      "outputs": []
    },
    {
      "cell_type": "code",
      "source": [
        "cat_var = ['OPERA','SIGLAORI',\"SIGLADES\"]\n",
        "for i in cat_var:\n",
        "   name = i + '_int'\n",
        "   df[name] = pd.factorize(df[i])[0]\n",
        "\n",
        "df.info()"
      ],
      "metadata": {
        "id": "jg0vQyCyZtP-"
      },
      "execution_count": null,
      "outputs": []
    },
    {
      "cell_type": "markdown",
      "source": [
        "#Outliers treatment"
      ],
      "metadata": {
        "id": "C5_Y2yg5lBms"
      }
    },
    {
      "cell_type": "code",
      "source": [
        "def detect_outliers(df,features):\n",
        "    outlier_indices=[]\n",
        "    \n",
        "    for c in features:\n",
        "        # 1st quartile\n",
        "        Q1=np.percentile(df[c],25)\n",
        "        \n",
        "        # 3rd quartile\n",
        "        Q3=np.percentile(df[c],75)\n",
        "        \n",
        "        # IQR\n",
        "        IQR= Q3-Q1\n",
        "        \n",
        "        # Outlier Step\n",
        "        outlier_step= IQR * 2\n",
        "        \n",
        "        # Detect outlier and their indeces \n",
        "        outlier_list_col = df[(df[c]< Q1 - outlier_step)|( df[c] > Q3 + outlier_step)].index\n",
        "        \n",
        "        # Store indices \n",
        "        outlier_indices.extend(outlier_list_col)\n",
        "    \n",
        "    outliers_indices = Counter(outlier_indices)\n",
        "    multiple_outliers = list(i for i , v in outliers_indices.items() if v>2 )\n",
        "    return multiple_outliers"
      ],
      "metadata": {
        "id": "cTpYixhwlCyf"
      },
      "execution_count": null,
      "outputs": []
    },
    {
      "cell_type": "code",
      "source": [
        ">>> from collections import Counter\n",
        "\n",
        "df.loc[detect_outliers(df,['DIA',\n",
        " 'MES',\n",
        " 'AÑO',\n",
        " 'TIPOVUELO_int',\n",
        " 'TIPOVUELO_int',\n",
        " 'Date-I',\n",
        " 'high_season',\n",
        " 'Date-O',\n",
        " 'min_diff',\n",
        " 'delay_15',\n",
        " 'DIANOM_int',\n",
        " 'period_day_int',\n",
        " 'OPERA_int',\n",
        " 'SIGLAORI_int',\n",
        " 'SIGLADES_int'])]"
      ],
      "metadata": {
        "id": "5KTQDDmYlIDI"
      },
      "execution_count": null,
      "outputs": []
    },
    {
      "cell_type": "code",
      "source": [
        "df = df.drop(detect_outliers(df,['DIA',\n",
        " 'MES',\n",
        " 'AÑO',\n",
        " 'TIPOVUELO_int',\n",
        " 'TIPOVUELO_int',\n",
        " 'Date-I',\n",
        " 'high_season',\n",
        " 'Date-O',\n",
        " 'min_diff',\n",
        " 'delay_15',\n",
        " 'DIANOM_int',\n",
        " 'period_day_int',\n",
        " 'OPERA_int',\n",
        " 'SIGLAORI_int',\n",
        " 'SIGLADES_int']),axis = 0).reset_index(drop = True)"
      ],
      "metadata": {
        "id": "ihrBB8TqlRAf"
      },
      "execution_count": null,
      "outputs": []
    },
    {
      "cell_type": "markdown",
      "source": [
        "#Graph analisis and ratios"
      ],
      "metadata": {
        "id": "SS1AEmFMBA2L"
      }
    },
    {
      "cell_type": "code",
      "source": [
        "# Ratio between High season and delay\n",
        "count = df[(df['delay_15'] == 1) & (df['high_season'] == 1)].shape[0]\n",
        "count_2 = df[(df['high_season'] == 1)].shape[0]\n",
        "ratio = count / count_2\n",
        "count_3 = df[(df['delay_15'] == 1) & (df['high_season'] == 0)].shape[0]\n",
        "count_4 = df[(df['high_season'] == 0)].shape[0]\n",
        "ratio_2 = count_3 / count_4\n",
        "\n",
        "print ('Ratio referring to high season and delay:' )\n",
        "print (ratio)\n",
        "\n",
        "print ('Ratio referring to low season and delay:' )\n",
        "print (ratio_2)\n",
        "\n"
      ],
      "metadata": {
        "id": "Lpssmuy98AG6"
      },
      "execution_count": null,
      "outputs": []
    },
    {
      "cell_type": "code",
      "source": [
        "# Ratio between High season and delay\n",
        "count = df[(df['delay_15'] == 1) & (df['period_day'] == 'night')].shape[0]\n",
        "count_2 = df[(df['period_day'] == 'night')].shape[0]\n",
        "ratio = count / count_2\n",
        "\n",
        "count_3 = df[(df['delay_15'] == 1) & (df['period_day'] == 'afternoon')].shape[0]\n",
        "count_4 = df[(df['period_day'] == 'afternoon')].shape[0]\n",
        "ratio_2 = count_3 / count_4\n",
        "\n",
        "count_5 = df[(df['delay_15'] == 1) & (df['period_day'] == 'morning')].shape[0]\n",
        "count_6 = df[(df['period_day'] == 'morning')].shape[0]\n",
        "ratio_3 = count_5 / count_6\n",
        "\n",
        "print ('Ratio referring to period day night delay:' )\n",
        "print (ratio)\n",
        "\n",
        "print ('Ratio referring to period day afternoon delay:' )\n",
        "print (ratio_2)\n",
        "\n",
        "print ('Ratio referring to period day morning delay:' )\n",
        "print (ratio_3)"
      ],
      "metadata": {
        "id": "yYuuRL3cBP2W"
      },
      "execution_count": null,
      "outputs": []
    },
    {
      "cell_type": "code",
      "source": [
        "period_day = df.groupby('delay_15')['period_day'].value_counts()\n",
        "TIPOVUELO = df.groupby('delay_15')['TIPOVUELO'].value_counts()\n",
        "SIGLAORI =  df.groupby('delay_15')['SIGLAORI'].value_counts()\n",
        "SIGLAORI =  df.groupby('delay_15')['SIGLAORI'].value_counts()\n",
        "SIGLADES =  df.groupby('delay_15')['SIGLADES'].value_counts()\n",
        "SIGLADES =  df.groupby('delay_15')['SIGLADES'].value_counts()\n",
        "OPERA =  df.groupby('delay_15')['OPERA'].value_counts()\n",
        "high_season =  df.groupby('delay_15')['high_season'].value_counts()\n",
        "MES = df.groupby('delay_15')['MES'].value_counts()\n",
        "DIA = df.groupby('delay_15')['DIA'].value_counts()\n",
        "AÑO = df.groupby('delay_15')['AÑO'].value_counts()\n",
        "DIANOM = df.groupby('delay_15')['DIANOM'].value_counts()"
      ],
      "metadata": {
        "id": "wDh1J_1mCDqm"
      },
      "execution_count": null,
      "outputs": []
    },
    {
      "cell_type": "code",
      "source": [
        "sns.countplot(x='delay_15', hue='SIGLADES', data=df)\n",
        "\n",
        "# set axis labels and title\n",
        "plt.xlabel('delay_15')\n",
        "plt.ylabel('SIGLADES')\n",
        "plt.title('Counts of SIGLADES by delay_15')\n",
        "plt.legend(labels=[])\n",
        "plt.show()"
      ],
      "metadata": {
        "id": "JArIQTm5MRBK"
      },
      "execution_count": null,
      "outputs": []
    },
    {
      "cell_type": "markdown",
      "source": [
        "There are specific cities that have an influence on the delay."
      ],
      "metadata": {
        "id": "oTAeeeyGN3rC"
      }
    },
    {
      "cell_type": "code",
      "source": [
        "sns.countplot(x='delay_15', hue='period_day', data=df)\n",
        "\n",
        "# set axis labels and title\n",
        "plt.xlabel('delay_15')\n",
        "plt.ylabel('period_day')\n",
        "plt.title('Counts of period_day by delay_15')\n",
        "plt.show()"
      ],
      "metadata": {
        "id": "95CeySlAN_ka"
      },
      "execution_count": null,
      "outputs": []
    },
    {
      "cell_type": "markdown",
      "source": [
        "Delays usually occur in the afternoon or nights with the follow ratio Ratio Referring to period day night delay:\n",
        "0.20002305741295826\n",
        "Ratio referring to period day afternoon delay:\n",
        "0.19940406178938289\n",
        "Ratio referring to period day morning delay:\n",
        "0.16007258096327562"
      ],
      "metadata": {
        "id": "mOq7abynOLJl"
      }
    },
    {
      "cell_type": "code",
      "source": [
        "sns.countplot(x='delay_15', hue='MES', data=df)\n",
        "\n",
        "# set axis labels and title\n",
        "plt.xlabel('delay_15')\n",
        "plt.ylabel('MES')\n",
        "plt.title('Counts of MES by delay_15')\n",
        "plt.legend(labels=[])\n",
        "plt.show()"
      ],
      "metadata": {
        "id": "3hVxgRU5O4Zr"
      },
      "execution_count": null,
      "outputs": []
    },
    {
      "cell_type": "markdown",
      "source": [
        "Depending on the month, it does provide information regarding the delay and it can be assimilated as that in holidays dates (December or July) there are considerable delays."
      ],
      "metadata": {
        "id": "dMJrOvdZRRCe"
      }
    },
    {
      "cell_type": "code",
      "source": [
        "sns.countplot(x='delay_15', hue='DIA', data=df)\n",
        "\n",
        "# set axis labels and title\n",
        "plt.xlabel('delay_15')\n",
        "plt.ylabel('DIA')\n",
        "plt.title('Counts of MES by delay_15')\n",
        "plt.legend(labels=[])\n",
        "plt.show()"
      ],
      "metadata": {
        "id": "zLAXaPCnPLt-"
      },
      "execution_count": null,
      "outputs": []
    },
    {
      "cell_type": "markdown",
      "source": [
        "Depending on the day, it does not provide much information and there is an uniform distribution."
      ],
      "metadata": {
        "id": "piBH1lLMQwra"
      }
    },
    {
      "cell_type": "code",
      "source": [
        "sns.countplot(x='delay_15', hue='DIANOM', data=df)\n",
        "\n",
        "# set axis labels and title\n",
        "plt.xlabel('delay_15')\n",
        "plt.ylabel('DIANOM')\n",
        "plt.title('Counts of DIANOM by delay_15')\n",
        "plt.show()"
      ],
      "metadata": {
        "id": "dnUMIq9G4D6m"
      },
      "execution_count": null,
      "outputs": []
    },
    {
      "cell_type": "markdown",
      "source": [
        "It is interesting the afluent on saturday is lower than the rest of the days and in sunday looks like there is better chances to have a delay."
      ],
      "metadata": {
        "id": "zAak0ao44sCT"
      }
    },
    {
      "cell_type": "code",
      "source": [
        "sns.countplot(x='delay_15', hue='high_season', data=df)\n",
        "\n",
        "# set axis labels and title\n",
        "plt.xlabel('delay_15')\n",
        "plt.ylabel('high_season')\n",
        "plt.title('Counts of high_season by delay_15')\n",
        "plt.show()"
      ],
      "metadata": {
        "id": "htNWSPDa-4JK"
      },
      "execution_count": null,
      "outputs": []
    },
    {
      "cell_type": "markdown",
      "source": [
        "Ratio referring to high season (1) and delay:\n",
        "0.24372384937238495\n",
        "Ratio referring to low season (0) and delay:\n",
        "0.17422732236648233"
      ],
      "metadata": {
        "id": "W_eefIPv_f22"
      }
    },
    {
      "cell_type": "code",
      "source": [
        "sns.countplot(x='delay_15', hue='OPERA', data=df)\n",
        "\n",
        "# set axis labels and title\n",
        "plt.xlabel('Flight Delayed by 15 Minutes or More')\n",
        "plt.ylabel('Airline Name')\n",
        "plt.title('Counts of Airline Names by Flight Delay')\n",
        "\n",
        "# adjust the x-axis\n",
        "plt.xticks(range(len(df['delay_15'].unique())), df['delay_15'].unique())\n",
        "plt.legend(labels=[])\n",
        "\n",
        "\n",
        "plt.show() "
      ],
      "metadata": {
        "id": "z0ANa_H85Cgq"
      },
      "execution_count": null,
      "outputs": []
    },
    {
      "cell_type": "markdown",
      "source": [
        "Not much information on other flights mostly representing latam and sky airline."
      ],
      "metadata": {
        "id": "qjjKHmht_wKy"
      }
    },
    {
      "cell_type": "code",
      "source": [
        "sns.countplot(x='delay_15', hue='TIPOVUELO', data=df)\n",
        "\n",
        "# set axis labels and title\n",
        "plt.xlabel('Flight Delayed by 15 Minutes or More')\n",
        "plt.ylabel('TIPOVUELO')\n",
        "plt.title('Counts of TIPOVUELO by Flight Delay')\n",
        "\n",
        "# adjust the x-axis\n",
        "plt.xticks(range(len(df['delay_15'].unique())), df['delay_15'].unique())\n",
        "\n",
        "\n",
        "\n",
        "plt.show() "
      ],
      "metadata": {
        "id": "FOG5Ze69AHgf"
      },
      "execution_count": null,
      "outputs": []
    },
    {
      "cell_type": "markdown",
      "source": [
        "International flights are more prone to delays. But nothing conclusive."
      ],
      "metadata": {
        "id": "lbR_0925AlTs"
      }
    },
    {
      "cell_type": "code",
      "source": [
        "import plotly.graph_objs as go\n",
        "import plotly.offline as pyoff\n",
        "import seaborn as sns\n",
        "\n",
        "corrmat = df.corr()\n",
        "fig = plt.figure(figsize = (12, 9))\n",
        "sns.heatmap(corrmat, vmax = .8, square = True, annot = True)\n",
        "plt.show()"
      ],
      "metadata": {
        "id": "onMUKOYnK0E4"
      },
      "execution_count": null,
      "outputs": []
    },
    {
      "cell_type": "code",
      "source": [
        "df['SIGLAORI_int']"
      ],
      "metadata": {
        "id": "vxiyAelVaAjr"
      },
      "execution_count": null,
      "outputs": []
    },
    {
      "cell_type": "code",
      "source": [],
      "metadata": {
        "id": "QAAraHgFaD8c"
      },
      "execution_count": null,
      "outputs": []
    }
  ]
}